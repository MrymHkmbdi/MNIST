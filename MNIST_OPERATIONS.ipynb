{
  "nbformat": 4,
  "nbformat_minor": 0,
  "metadata": {
    "colab": {
      "name": "MNIST OPERATIONS.ipynb",
      "provenance": [],
      "authorship_tag": "ABX9TyOFsCB275QciVkKkjsEagr4",
      "include_colab_link": true
    },
    "kernelspec": {
      "name": "python3",
      "display_name": "Python 3"
    },
    "language_info": {
      "name": "python"
    }
  },
  "cells": [
    {
      "cell_type": "markdown",
      "metadata": {
        "id": "view-in-github",
        "colab_type": "text"
      },
      "source": [
        "<a href=\"https://colab.research.google.com/github/MrymHkmbdi/MNIST/blob/main/MNIST_OPERATIONS.ipynb\" target=\"_parent\"><img src=\"https://colab.research.google.com/assets/colab-badge.svg\" alt=\"Open In Colab\"/></a>"
      ]
    },
    {
      "cell_type": "code",
      "metadata": {
        "colab": {
          "base_uri": "https://localhost:8080/"
        },
        "id": "MEU07rdtclO7",
        "outputId": "32650d7e-8e41-4cd3-e278-ad22944758b2"
      },
      "source": [
        "from google.colab import drive\n",
        "drive.mount('/content/drive')"
      ],
      "execution_count": 1,
      "outputs": [
        {
          "output_type": "stream",
          "name": "stdout",
          "text": [
            "Mounted at /content/drive\n"
          ]
        }
      ]
    },
    {
      "cell_type": "code",
      "metadata": {
        "id": "7SBXg3_XdGvx"
      },
      "source": [
        "x_train = pd.read_csv('/content/drive/MyDrive/Colab Notebooks/iml/train_set.csv',encoding='utf-8')\n",
        "y_train = pd.read_csv('/content/drive/MyDrive/Colab Notebooks/iml/train_label.csv',encoding='utf-8')\n",
        "x_test = pd.read_csv('/content/drive/MyDrive/Colab Notebooks/iml/test_set.csv',encoding='utf-8')\n",
        "y_test = pd.read_csv('/content/drive/MyDrive/Colab Notebooks/iml/test_label.csv',encoding='utf-8')"
      ],
      "execution_count": 5,
      "outputs": []
    },
    {
      "cell_type": "code",
      "metadata": {
        "id": "mGkoXsWld2-s"
      },
      "source": [
        "X = x_train\n",
        "Y = y_train[\"labels\"].values"
      ],
      "execution_count": 6,
      "outputs": []
    },
    {
      "cell_type": "markdown",
      "metadata": {
        "id": "ydL7fvJWfhYI"
      },
      "source": [
        "# **`DBSCAN`**"
      ]
    },
    {
      "cell_type": "code",
      "metadata": {
        "id": "yUXZUa-CUAnr"
      },
      "source": [
        "import numpy as np\n",
        "import pandas as pd\n",
        "from sklearn import metrics\n",
        "from sklearn.cluster import DBSCAN\n",
        "from sklearn.metrics.cluster import rand_score"
      ],
      "execution_count": 9,
      "outputs": []
    },
    {
      "cell_type": "code",
      "metadata": {
        "id": "dLMwnP0meXpm"
      },
      "source": [
        "dbs_cluster = DBSCAN(eps=3, min_samples=2).fit(X[0:10000])"
      ],
      "execution_count": 7,
      "outputs": []
    },
    {
      "cell_type": "code",
      "metadata": {
        "colab": {
          "base_uri": "https://localhost:8080/"
        },
        "id": "EW7vhWR1ecEj",
        "outputId": "c3c1e4b4-3c12-4d26-acd6-63b53efa7595"
      },
      "source": [
        "print(rand_score(Y[1:10001], dbs_cluster.labels_))"
      ],
      "execution_count": 11,
      "outputs": [
        {
          "output_type": "stream",
          "name": "stdout",
          "text": [
            "0.2969919591959196\n"
          ]
        }
      ]
    },
    {
      "cell_type": "markdown",
      "metadata": {
        "id": "kEkng1uAfrsh"
      },
      "source": [
        "# **`Agglomerative`**"
      ]
    },
    {
      "cell_type": "code",
      "metadata": {
        "id": "fECELV4xfeKf"
      },
      "source": [
        "import numpy as np\n",
        "import pandas as pd\n",
        "from sklearn import metrics\n",
        "from sklearn.cluster import DBSCAN\n",
        "from sklearn.metrics.cluster import rand_score\n",
        "from sklearn.cluster import AgglomerativeClustering"
      ],
      "execution_count": 12,
      "outputs": []
    },
    {
      "cell_type": "code",
      "metadata": {
        "id": "0IsSJ_-ifv5D"
      },
      "source": [
        "agglo_cluster = AgglomerativeClustering().fit(X[0:1000])"
      ],
      "execution_count": 28,
      "outputs": []
    },
    {
      "cell_type": "code",
      "metadata": {
        "colab": {
          "base_uri": "https://localhost:8080/"
        },
        "id": "FajtDFiEf4Gx",
        "outputId": "1d30366a-1ef6-4ab1-90ba-8d0f86878edd"
      },
      "source": [
        "print(rand_score(Y[0:1000], agglo_cluster.labels_))"
      ],
      "execution_count": 30,
      "outputs": [
        {
          "output_type": "stream",
          "name": "stdout",
          "text": [
            "0.38131931931931934\n"
          ]
        }
      ]
    },
    {
      "cell_type": "markdown",
      "metadata": {
        "id": "7tZ5CLyphkNU"
      },
      "source": [
        "# **`KMEANS`**"
      ]
    },
    {
      "cell_type": "code",
      "metadata": {
        "id": "THP9N55GifSd"
      },
      "source": [
        "import numpy as np\n",
        "import pandas as pd\n",
        "from sklearn import metrics\n",
        "from sklearn.cluster import DBSCAN\n",
        "from sklearn.metrics.cluster import rand_score\n",
        "from sklearn.cluster import MiniBatchKMeans"
      ],
      "execution_count": 32,
      "outputs": []
    },
    {
      "cell_type": "code",
      "metadata": {
        "id": "HMAyoZd3iHF1"
      },
      "source": [
        "kmeans_cluster = MiniBatchKMeans(n_clusters = 10).fit(X)"
      ],
      "execution_count": 33,
      "outputs": []
    },
    {
      "cell_type": "code",
      "metadata": {
        "colab": {
          "base_uri": "https://localhost:8080/"
        },
        "id": "-gWl_i54jH2L",
        "outputId": "5d35e298-0880-488d-f028-ed7bced6416a"
      },
      "source": [
        "print(rand_score(Y[0:59999], kmeans_cluster.labels_))"
      ],
      "execution_count": 37,
      "outputs": [
        {
          "output_type": "stream",
          "name": "stdout",
          "text": [
            "0.8034888695526505\n"
          ]
        }
      ]
    },
    {
      "cell_type": "markdown",
      "metadata": {
        "id": "Mc0xUqYfjWXw"
      },
      "source": [
        "# **`KMEDOIDS`**"
      ]
    },
    {
      "cell_type": "code",
      "metadata": {
        "id": "MTaZPukukTNF"
      },
      "source": [
        "pip install scikit-learn-extra"
      ],
      "execution_count": null,
      "outputs": []
    },
    {
      "cell_type": "code",
      "metadata": {
        "id": "40X4Q7VCj1TV"
      },
      "source": [
        "import numpy as np\n",
        "import pandas as pd\n",
        "from sklearn import metrics\n",
        "from sklearn.cluster import DBSCAN\n",
        "from sklearn.metrics.cluster import rand_score\n",
        "from sklearn_extra.cluster import KMedoids"
      ],
      "execution_count": 44,
      "outputs": []
    },
    {
      "cell_type": "code",
      "metadata": {
        "id": "S2zp8ZSfjzui"
      },
      "source": [
        "kmedoids_cluster = KMedoids(n_clusters=10, random_state=0).fit(X[:1000])"
      ],
      "execution_count": 45,
      "outputs": []
    },
    {
      "cell_type": "code",
      "metadata": {
        "colab": {
          "base_uri": "https://localhost:8080/"
        },
        "id": "op3UM6Hej9Ay",
        "outputId": "30e6bce4-7baa-4cb8-9425-de7c23d3814a"
      },
      "source": [
        "print(rand_score(Y[1:1001], kmedoids_cluster.labels_))"
      ],
      "execution_count": 47,
      "outputs": [
        {
          "output_type": "stream",
          "name": "stdout",
          "text": [
            "0.8303883883883884\n"
          ]
        }
      ]
    },
    {
      "cell_type": "markdown",
      "metadata": {
        "id": "YKBPOvHjkdU8"
      },
      "source": [
        "# **`MEANSHIFT`**"
      ]
    },
    {
      "cell_type": "code",
      "metadata": {
        "id": "25AXtQK1kggx"
      },
      "source": [
        "import numpy as np\n",
        "import pandas as pd\n",
        "from sklearn import metrics\n",
        "from sklearn.cluster import DBSCAN\n",
        "from sklearn.metrics.cluster import rand_score\n",
        "from sklearn.cluster import MeanShift"
      ],
      "execution_count": 50,
      "outputs": []
    },
    {
      "cell_type": "code",
      "metadata": {
        "id": "9PfFo8LVkjE-"
      },
      "source": [
        "meanshift_cluster = MeanShift(bandwidth=50, bin_seeding=True).fit(X)"
      ],
      "execution_count": 51,
      "outputs": []
    },
    {
      "cell_type": "code",
      "metadata": {
        "colab": {
          "base_uri": "https://localhost:8080/"
        },
        "id": "HjIo2Z5IkysX",
        "outputId": "561ee84a-d04e-4412-83d0-24eadb799ad6"
      },
      "source": [
        "print(rand_score(Y[1:], meanshift_cluster.labels_))"
      ],
      "execution_count": 52,
      "outputs": [
        {
          "output_type": "stream",
          "name": "stdout",
          "text": [
            "0.10027349528572345\n"
          ]
        }
      ]
    },
    {
      "cell_type": "markdown",
      "metadata": {
        "id": "qDxHcMRyk71D"
      },
      "source": [
        "# **`DECISION TREE`**"
      ]
    },
    {
      "cell_type": "code",
      "metadata": {
        "id": "YV0O45E2k6kg"
      },
      "source": [
        "import numpy as np\n",
        "import pandas as pd\n",
        "from sklearn import metrics\n",
        "from sklearn.cluster import DBSCAN\n",
        "from sklearn.metrics import confusion_matrix\n",
        "from sklearn.metrics.cluster import rand_score\n",
        "from sklearn.tree import DecisionTreeClassifier"
      ],
      "execution_count": 54,
      "outputs": []
    },
    {
      "cell_type": "code",
      "metadata": {
        "id": "dfO8uV1rlCPy"
      },
      "source": [
        "dtree = DecisionTreeClassifier(max_features=\"log2\",criterion=\"entropy\",splitter=\"random\").fit(X ,Y[1:])"
      ],
      "execution_count": 55,
      "outputs": []
    },
    {
      "cell_type": "code",
      "metadata": {
        "id": "KC8O4mPmlPpH"
      },
      "source": [
        "y_pred = dtree.predict(x_test)"
      ],
      "execution_count": null,
      "outputs": []
    },
    {
      "cell_type": "code",
      "metadata": {
        "id": "MEs94P53lUV5"
      },
      "source": [
        "cmdtree = confusion_matrix(y_test,y_pred)\n",
        "cmdtree ,dtree.score(x_test , y_pred)"
      ],
      "execution_count": null,
      "outputs": []
    },
    {
      "cell_type": "markdown",
      "metadata": {
        "id": "46Mapen1l8VY"
      },
      "source": [
        "# **`SVM`**"
      ]
    },
    {
      "cell_type": "code",
      "metadata": {
        "id": "zHSyGowjl-0J"
      },
      "source": [
        "import numpy as np\n",
        "import pandas as pd\n",
        "from sklearn import metrics\n",
        "from sklearn.cluster import DBSCAN\n",
        "from sklearn.metrics import confusion_matrix\n",
        "from sklearn.metrics.cluster import rand_score\n",
        "from sklearn.svm import SVC"
      ],
      "execution_count": 62,
      "outputs": []
    },
    {
      "cell_type": "code",
      "metadata": {
        "id": "hDGlKYKvllle"
      },
      "source": [
        "classifier = SVC(kernel='rbf', tol=2).fit(X,Y[1:])"
      ],
      "execution_count": null,
      "outputs": []
    },
    {
      "cell_type": "code",
      "metadata": {
        "id": "t5Lq2TO8mYS4"
      },
      "source": [
        "y_pred = classifier.predict(x_test)"
      ],
      "execution_count": null,
      "outputs": []
    },
    {
      "cell_type": "code",
      "metadata": {
        "id": "TGW-nKp1maw4"
      },
      "source": [
        "cmclassifier = confusion_matrix(y_test,y_pred)\n",
        "cmclassifier ,classifier.score(x_test , y_test)"
      ],
      "execution_count": null,
      "outputs": []
    }
  ]
}